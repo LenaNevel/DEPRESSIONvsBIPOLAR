{
 "cells": [
  {
   "cell_type": "markdown",
   "metadata": {},
   "source": [
    "# Project 3: Web Scraping and NLP: Depression vs Bipolar"
   ]
  },
  {
   "cell_type": "markdown",
   "metadata": {},
   "source": [
    "## Problem description\n",
    "\n",
    "Provided with numerous posts on Reddit, I had a binary classification problem on hand to see if a difference could be infered between depression and bipolar posts. After scraping two subreddits, I compared Naive Bayes, Logistic Regression, and KNN models to finetune one that would perform the best. My main concern was measuring the accuracy of the model. After, choosing my model, I went ahead and train my model to make real time predictions. In the 'real_time_predictions' subfolder you will find a code that if ran will tell you with some accuracy whether the person who wrote a paragraph about how they feel should be treated for bipolar or depression. "
   ]
  },
  {
   "cell_type": "markdown",
   "metadata": {},
   "source": [
    "### Project Structure:\n",
    "- Notebook 1. Web APIs and Data Collection\n",
    "- Notebook 2. EDA, Data Cleaning\n",
    "- Notebook 3. Pre-Processing\n",
    "- Notebook 4a. Modeling: Naive-Bayes\n",
    "- Notebook 4b. Modeling: Logistic Regressoin\n",
    "- Notebook 4c. Modeling: KNN\n",
    "- Notebook 5. Model Evaluation"
   ]
  },
  {
   "cell_type": "markdown",
   "metadata": {},
   "source": [
    "## Pre-Processing"
   ]
  },
  {
   "cell_type": "code",
   "execution_count": 1,
   "metadata": {},
   "outputs": [],
   "source": [
    "import pandas as pd\n",
    "from nltk.tokenize import RegexpTokenizer\n",
    "from nltk.stem import WordNetLemmatizer\n",
    "import re\n",
    "from nltk.corpus import stopwords"
   ]
  },
  {
   "cell_type": "code",
   "execution_count": 2,
   "metadata": {},
   "outputs": [],
   "source": [
    "df = pd.read_csv('../data/data_cleaned.csv')"
   ]
  },
  {
   "cell_type": "code",
   "execution_count": 3,
   "metadata": {},
   "outputs": [
    {
     "data": {
      "text/html": [
       "<div>\n",
       "<style scoped>\n",
       "    .dataframe tbody tr th:only-of-type {\n",
       "        vertical-align: middle;\n",
       "    }\n",
       "\n",
       "    .dataframe tbody tr th {\n",
       "        vertical-align: top;\n",
       "    }\n",
       "\n",
       "    .dataframe thead th {\n",
       "        text-align: right;\n",
       "    }\n",
       "</style>\n",
       "<table border=\"1\" class=\"dataframe\">\n",
       "  <thead>\n",
       "    <tr style=\"text-align: right;\">\n",
       "      <th></th>\n",
       "      <th>created_utc</th>\n",
       "      <th>title</th>\n",
       "      <th>selftext</th>\n",
       "      <th>subreddit</th>\n",
       "      <th>permalink</th>\n",
       "      <th>title_selftext</th>\n",
       "    </tr>\n",
       "  </thead>\n",
       "  <tbody>\n",
       "    <tr>\n",
       "      <th>0</th>\n",
       "      <td>1579819637</td>\n",
       "      <td>i power through</td>\n",
       "      <td>its like shit never stops coming. I just get f...</td>\n",
       "      <td>depression</td>\n",
       "      <td>/r/depression/comments/et0wnm/i_power_through/</td>\n",
       "      <td>i power through its like shit never stops comi...</td>\n",
       "    </tr>\n",
       "    <tr>\n",
       "      <th>1</th>\n",
       "      <td>1579819771</td>\n",
       "      <td>I feel sick to my stomach</td>\n",
       "      <td>First and foremost, I am not diagnosed with de...</td>\n",
       "      <td>depression</td>\n",
       "      <td>/r/depression/comments/et0xrl/i_feel_sick_to_m...</td>\n",
       "      <td>I feel sick to my stomach First and foremost, ...</td>\n",
       "    </tr>\n",
       "    <tr>\n",
       "      <th>2</th>\n",
       "      <td>1579819775</td>\n",
       "      <td>Why are people so cruel?</td>\n",
       "      <td>It really sucks to tell someone you are sad an...</td>\n",
       "      <td>depression</td>\n",
       "      <td>/r/depression/comments/et0xtj/why_are_people_s...</td>\n",
       "      <td>Why are people so cruel? It really sucks to te...</td>\n",
       "    </tr>\n",
       "    <tr>\n",
       "      <th>3</th>\n",
       "      <td>1579819832</td>\n",
       "      <td>Why bother?</td>\n",
       "      <td>I do not have any motivation to learn grow or ...</td>\n",
       "      <td>depression</td>\n",
       "      <td>/r/depression/comments/et0ybn/why_bother/</td>\n",
       "      <td>Why bother? I do not have any motivation to le...</td>\n",
       "    </tr>\n",
       "    <tr>\n",
       "      <th>4</th>\n",
       "      <td>1579819877</td>\n",
       "      <td>Today is my Birthday - shall I kill myself?</td>\n",
       "      <td>In a nutshell, my parents have abandoned me wh...</td>\n",
       "      <td>depression</td>\n",
       "      <td>/r/depression/comments/et0ypi/today_is_my_birt...</td>\n",
       "      <td>Today is my Birthday - shall I kill myself? In...</td>\n",
       "    </tr>\n",
       "  </tbody>\n",
       "</table>\n",
       "</div>"
      ],
      "text/plain": [
       "   created_utc                                        title  \\\n",
       "0   1579819637                              i power through   \n",
       "1   1579819771                    I feel sick to my stomach   \n",
       "2   1579819775                     Why are people so cruel?   \n",
       "3   1579819832                                  Why bother?   \n",
       "4   1579819877  Today is my Birthday - shall I kill myself?   \n",
       "\n",
       "                                            selftext   subreddit  \\\n",
       "0  its like shit never stops coming. I just get f...  depression   \n",
       "1  First and foremost, I am not diagnosed with de...  depression   \n",
       "2  It really sucks to tell someone you are sad an...  depression   \n",
       "3  I do not have any motivation to learn grow or ...  depression   \n",
       "4  In a nutshell, my parents have abandoned me wh...  depression   \n",
       "\n",
       "                                           permalink  \\\n",
       "0     /r/depression/comments/et0wnm/i_power_through/   \n",
       "1  /r/depression/comments/et0xrl/i_feel_sick_to_m...   \n",
       "2  /r/depression/comments/et0xtj/why_are_people_s...   \n",
       "3          /r/depression/comments/et0ybn/why_bother/   \n",
       "4  /r/depression/comments/et0ypi/today_is_my_birt...   \n",
       "\n",
       "                                      title_selftext  \n",
       "0  i power through its like shit never stops comi...  \n",
       "1  I feel sick to my stomach First and foremost, ...  \n",
       "2  Why are people so cruel? It really sucks to te...  \n",
       "3  Why bother? I do not have any motivation to le...  \n",
       "4  Today is my Birthday - shall I kill myself? In...  "
      ]
     },
     "execution_count": 3,
     "metadata": {},
     "output_type": "execute_result"
    }
   ],
   "source": [
    "df.head()"
   ]
  },
  {
   "cell_type": "code",
   "execution_count": 4,
   "metadata": {},
   "outputs": [
    {
     "name": "stderr",
     "output_type": "stream",
     "text": [
      "/Users/yelenanevel/opt/anaconda3/lib/python3.7/site-packages/pandas/core/generic.py:5191: FutureWarning: Attribute 'is_copy' is deprecated and will be removed in a future version.\n",
      "  object.__getattribute__(self, name)\n",
      "/Users/yelenanevel/opt/anaconda3/lib/python3.7/site-packages/pandas/core/generic.py:5192: FutureWarning: Attribute 'is_copy' is deprecated and will be removed in a future version.\n",
      "  return object.__setattr__(self, name, value)\n"
     ]
    }
   ],
   "source": [
    "data_used = df[['subreddit', 'title_selftext']]\n",
    "data_used.is_copy = None"
   ]
  },
  {
   "cell_type": "code",
   "execution_count": 5,
   "metadata": {},
   "outputs": [
    {
     "data": {
      "text/html": [
       "<div>\n",
       "<style scoped>\n",
       "    .dataframe tbody tr th:only-of-type {\n",
       "        vertical-align: middle;\n",
       "    }\n",
       "\n",
       "    .dataframe tbody tr th {\n",
       "        vertical-align: top;\n",
       "    }\n",
       "\n",
       "    .dataframe thead th {\n",
       "        text-align: right;\n",
       "    }\n",
       "</style>\n",
       "<table border=\"1\" class=\"dataframe\">\n",
       "  <thead>\n",
       "    <tr style=\"text-align: right;\">\n",
       "      <th></th>\n",
       "      <th>subreddit</th>\n",
       "      <th>title_selftext</th>\n",
       "    </tr>\n",
       "  </thead>\n",
       "  <tbody>\n",
       "    <tr>\n",
       "      <th>0</th>\n",
       "      <td>depression</td>\n",
       "      <td>i power through its like shit never stops comi...</td>\n",
       "    </tr>\n",
       "    <tr>\n",
       "      <th>1</th>\n",
       "      <td>depression</td>\n",
       "      <td>I feel sick to my stomach First and foremost, ...</td>\n",
       "    </tr>\n",
       "    <tr>\n",
       "      <th>2</th>\n",
       "      <td>depression</td>\n",
       "      <td>Why are people so cruel? It really sucks to te...</td>\n",
       "    </tr>\n",
       "    <tr>\n",
       "      <th>3</th>\n",
       "      <td>depression</td>\n",
       "      <td>Why bother? I do not have any motivation to le...</td>\n",
       "    </tr>\n",
       "    <tr>\n",
       "      <th>4</th>\n",
       "      <td>depression</td>\n",
       "      <td>Today is my Birthday - shall I kill myself? In...</td>\n",
       "    </tr>\n",
       "  </tbody>\n",
       "</table>\n",
       "</div>"
      ],
      "text/plain": [
       "    subreddit                                     title_selftext\n",
       "0  depression  i power through its like shit never stops comi...\n",
       "1  depression  I feel sick to my stomach First and foremost, ...\n",
       "2  depression  Why are people so cruel? It really sucks to te...\n",
       "3  depression  Why bother? I do not have any motivation to le...\n",
       "4  depression  Today is my Birthday - shall I kill myself? In..."
      ]
     },
     "execution_count": 5,
     "metadata": {},
     "output_type": "execute_result"
    }
   ],
   "source": [
    "data_used.head()"
   ]
  },
  {
   "cell_type": "code",
   "execution_count": 6,
   "metadata": {},
   "outputs": [],
   "source": [
    "#credit to lesson 5.03:\n",
    "def pre_processing_data(raw_text, words_to_remove):\n",
    "    letters_only = re.sub(\"[^a-zA-Z]\", \" \", raw_text) #pull only words\n",
    "    tokenizer = RegexpTokenizer(r'\\w+')#tokenize\n",
    "    text_tokens = tokenizer.tokenize(letters_only.lower()) #make everything lower case\n",
    "    remove_stopwords = [w for w in text_tokens if w not in stopwords.words('english')] #remove english stopwords \n",
    "    lemmatizer = WordNetLemmatizer() #instantiate lemmatize\n",
    "    text_lem = [lemmatizer.lemmatize(i) for i in remove_stopwords] #lemmatize\n",
    "    words_to_remove = [lemmatizer.lemmatize(i) for i in words_to_remove] #lemmatize the custom words to remove\n",
    "    words_to_remove = set(words_to_remove) #make the words to remove in to a set\n",
    "    remaining_words = [w for w in text_lem if w not in words_to_remove] #remove the custom stop words\n",
    "    return(\" \".join(remaining_words))"
   ]
  },
  {
   "cell_type": "code",
   "execution_count": 7,
   "metadata": {},
   "outputs": [],
   "source": [
    "#these are custom stop words to remove. If we leave them it would be too easy to spot the difference\n",
    "words_to_remove = ['depression', 'bipolar', 'antidepressant', 'manic', 'mania', 'hypomanic', 'hypomania']"
   ]
  },
  {
   "cell_type": "code",
   "execution_count": 8,
   "metadata": {},
   "outputs": [],
   "source": [
    "#run our function on our data\n",
    "data_used['title_selftext'] = [pre_processing_data(string, words_to_remove) for string in data_used['title_selftext']]"
   ]
  },
  {
   "cell_type": "code",
   "execution_count": 9,
   "metadata": {},
   "outputs": [
    {
     "data": {
      "text/html": [
       "<div>\n",
       "<style scoped>\n",
       "    .dataframe tbody tr th:only-of-type {\n",
       "        vertical-align: middle;\n",
       "    }\n",
       "\n",
       "    .dataframe tbody tr th {\n",
       "        vertical-align: top;\n",
       "    }\n",
       "\n",
       "    .dataframe thead th {\n",
       "        text-align: right;\n",
       "    }\n",
       "</style>\n",
       "<table border=\"1\" class=\"dataframe\">\n",
       "  <thead>\n",
       "    <tr style=\"text-align: right;\">\n",
       "      <th></th>\n",
       "      <th>subreddit</th>\n",
       "      <th>title_selftext</th>\n",
       "    </tr>\n",
       "  </thead>\n",
       "  <tbody>\n",
       "    <tr>\n",
       "      <th>0</th>\n",
       "      <td>depression</td>\n",
       "      <td>power like shit never stop coming get frustrat...</td>\n",
       "    </tr>\n",
       "    <tr>\n",
       "      <th>1</th>\n",
       "      <td>depression</td>\n",
       "      <td>feel sick stomach first foremost diagnosed fee...</td>\n",
       "    </tr>\n",
       "    <tr>\n",
       "      <th>2</th>\n",
       "      <td>depression</td>\n",
       "      <td>people cruel really suck tell someone sad make...</td>\n",
       "    </tr>\n",
       "    <tr>\n",
       "      <th>3</th>\n",
       "      <td>depression</td>\n",
       "      <td>bother motivation learn grow part kind relatio...</td>\n",
       "    </tr>\n",
       "    <tr>\n",
       "      <th>4</th>\n",
       "      <td>depression</td>\n",
       "      <td>today birthday shall kill nutshell parent aban...</td>\n",
       "    </tr>\n",
       "  </tbody>\n",
       "</table>\n",
       "</div>"
      ],
      "text/plain": [
       "    subreddit                                     title_selftext\n",
       "0  depression  power like shit never stop coming get frustrat...\n",
       "1  depression  feel sick stomach first foremost diagnosed fee...\n",
       "2  depression  people cruel really suck tell someone sad make...\n",
       "3  depression  bother motivation learn grow part kind relatio...\n",
       "4  depression  today birthday shall kill nutshell parent aban..."
      ]
     },
     "execution_count": 9,
     "metadata": {},
     "output_type": "execute_result"
    }
   ],
   "source": [
    "data_used.head()"
   ]
  },
  {
   "cell_type": "code",
   "execution_count": 10,
   "metadata": {},
   "outputs": [],
   "source": [
    "data_used.to_csv('../data/data_pre_processed.csv')"
   ]
  },
  {
   "cell_type": "code",
   "execution_count": null,
   "metadata": {},
   "outputs": [],
   "source": []
  }
 ],
 "metadata": {
  "kernelspec": {
   "display_name": "Python [conda env:root] *",
   "language": "python",
   "name": "conda-root-py"
  },
  "language_info": {
   "codemirror_mode": {
    "name": "ipython",
    "version": 3
   },
   "file_extension": ".py",
   "mimetype": "text/x-python",
   "name": "python",
   "nbconvert_exporter": "python",
   "pygments_lexer": "ipython3",
   "version": "3.7.4"
  }
 },
 "nbformat": 4,
 "nbformat_minor": 2
}
