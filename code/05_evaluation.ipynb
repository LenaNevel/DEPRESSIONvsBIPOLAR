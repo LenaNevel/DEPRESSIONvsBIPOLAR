{
 "cells": [
  {
   "cell_type": "markdown",
   "metadata": {},
   "source": [
    "# Project 3: Web Scraping and NLP: Depression vs Bipolar"
   ]
  },
  {
   "cell_type": "markdown",
   "metadata": {},
   "source": [
    "## Problem description\n",
    "\n",
    "Provided with numerous posts on Reddit, I had a binary classification problem on hand to see if a difference could be infered between depression and bipolar posts. After scraping two subreddits, I compared Naive Bayes, Logistic Regression, and KNN models to finetune one that would perform the best. My main concern was measuring the accuracy of the model. After, choosing my model, I went ahead and train my model to make real time predictions. In the 'real_time_predictions' subfolder you will find a code that if ran will tell you with some accuracy whether the person who wrote a paragraph about how they feel should be treated for bipolar or depression."
   ]
  },
  {
   "cell_type": "markdown",
   "metadata": {},
   "source": [
    "### Project Structure:\n",
    "- Notebook 1. Web APIs and Data Collection\n",
    "- Notebook 2. EDA, Data Cleaning\n",
    "- Notebook 3. Pre-Processing\n",
    "- Notebook 4a. Modeling: Naive-Bayes\n",
    "- Notebook 4b. Modeling: Logistic Regressoin\n",
    "- Notebook 4c. Modeling: KNN\n",
    "- Notebook 5. Model Evaluation"
   ]
  },
  {
   "cell_type": "markdown",
   "metadata": {},
   "source": [
    "## Models Evaluation"
   ]
  },
  {
   "cell_type": "markdown",
   "metadata": {},
   "source": [
    "I picked two of my best models to evaluate and compare the metrics. My main metric to optimize was accuracy. This is because I don't trully have a false negative or a false positive in this problem. Both depression and bipolar can be viewed as important of a result as the other. "
   ]
  },
  {
   "cell_type": "code",
   "execution_count": 57,
   "metadata": {},
   "outputs": [],
   "source": [
    "import pandas as pd\n",
    "import numpy as np\n",
    "from sklearn.feature_extraction.text import CountVectorizer\n",
    "from sklearn.naive_bayes import MultinomialNB\n",
    "from sklearn.model_selection import train_test_split\n",
    "from sklearn.neighbors import KNeighborsClassifier\n",
    "from sklearn.metrics import confusion_matrix, classification_report\n",
    "import matplotlib.pyplot as plt\n",
    "from sklearn import metrics\n",
    "from sklearn.metrics import roc_auc_score"
   ]
  },
  {
   "cell_type": "code",
   "execution_count": 3,
   "metadata": {},
   "outputs": [],
   "source": [
    "df = pd.read_csv('../data/data_pre_processed.csv')"
   ]
  },
  {
   "cell_type": "code",
   "execution_count": 4,
   "metadata": {},
   "outputs": [],
   "source": [
    "df.dropna(inplace = True)"
   ]
  },
  {
   "cell_type": "markdown",
   "metadata": {},
   "source": [
    "### Prepare the data for modeling"
   ]
  },
  {
   "cell_type": "code",
   "execution_count": 5,
   "metadata": {},
   "outputs": [
    {
     "data": {
      "text/plain": [
       "0    0.540022\n",
       "1    0.459978\n",
       "Name: subreddit, dtype: float64"
      ]
     },
     "execution_count": 5,
     "metadata": {},
     "output_type": "execute_result"
    }
   ],
   "source": [
    "y = df['subreddit'].map({'depression':0, 'bipolar':1})\n",
    "y.value_counts(normalize = True) #Null accuracy"
   ]
  },
  {
   "cell_type": "code",
   "execution_count": 6,
   "metadata": {},
   "outputs": [
    {
     "data": {
      "text/plain": [
       "0    power like shit never stop coming get frustrat...\n",
       "1    feel sick stomach first foremost diagnosed fee...\n",
       "2    people cruel really suck tell someone sad make...\n",
       "3    bother motivation learn grow part kind relatio...\n",
       "4    today birthday shall kill nutshell parent aban...\n",
       "Name: title_selftext, dtype: object"
      ]
     },
     "execution_count": 6,
     "metadata": {},
     "output_type": "execute_result"
    }
   ],
   "source": [
    "X = df['title_selftext']\n",
    "X.head()"
   ]
  },
  {
   "cell_type": "code",
   "execution_count": 7,
   "metadata": {},
   "outputs": [],
   "source": [
    "X_train, X_test, y_train, y_test = train_test_split(X, y, stratify = y, random_state = 42, test_size = .33)"
   ]
  },
  {
   "cell_type": "markdown",
   "metadata": {},
   "source": [
    "### Instantiate and Fit the models"
   ]
  },
  {
   "cell_type": "code",
   "execution_count": 8,
   "metadata": {},
   "outputs": [],
   "source": [
    "cvec = CountVectorizer(max_features = 5000, min_df = 2, max_df = .8, ngram_range = (1,2))\n",
    "\n",
    "X_train_cvec = cvec.fit_transform(X_train)\n",
    "X_test_cvec = cvec.transform(X_test)"
   ]
  },
  {
   "cell_type": "code",
   "execution_count": 9,
   "metadata": {},
   "outputs": [],
   "source": [
    "knn_model = KNeighborsClassifier(n_neighbors=3)\n",
    "\n",
    "knn_model.fit(X_train_cvec, y_train)\n",
    "\n",
    "mnb_model = MultinomialNB()\n",
    "\n",
    "mnb_model.fit(X_train_cvec, y_train);"
   ]
  },
  {
   "cell_type": "code",
   "execution_count": 10,
   "metadata": {},
   "outputs": [
    {
     "name": "stdout",
     "output_type": "stream",
     "text": [
      "The train and test accuracy from KNN model are the following:\n",
      "0.7880184331797235\n",
      "0.6232464929859719\n",
      "\n",
      "The train and test scores accuracy for Multinomial Naive Bayes are as follows:\n",
      "0.8462804476629362\n",
      "0.800935203740815\n"
     ]
    }
   ],
   "source": [
    "print('The train and test accuracy from KNN model are the following:')\n",
    "print(knn_model.score(X_train_cvec, y_train))\n",
    "print(knn_model.score(X_test_cvec, y_test))\n",
    "print()\n",
    "print('The train and test scores accuracy for Multinomial Naive Bayes are as follows:')\n",
    "print(mnb_model.score(X_train_cvec, y_train))\n",
    "print(mnb_model.score(X_test_cvec, y_test))"
   ]
  },
  {
   "cell_type": "markdown",
   "metadata": {},
   "source": [
    "Both of our models do better than the null accuracy. We can see that the Multinomial Naive Bayes outperforms the KNN model. The accuracy score is the percentage of correct predictions. "
   ]
  },
  {
   "cell_type": "markdown",
   "metadata": {},
   "source": [
    "### Making predictions"
   ]
  },
  {
   "cell_type": "code",
   "execution_count": 11,
   "metadata": {},
   "outputs": [],
   "source": [
    "#KNN model predictions\n",
    "prediction_knn = knn_model.predict(X_test_cvec)\n",
    "#Multinomial Naive Bayes predictions\n",
    "prediction_mnb = mnb_model.predict(X_test_cvec)"
   ]
  },
  {
   "cell_type": "code",
   "execution_count": 12,
   "metadata": {},
   "outputs": [],
   "source": [
    "#KNN predicted probability \n",
    "proba_knn = knn_model.predict_proba(X_test_cvec)\n",
    "#Multinomial NB predicted probability\n",
    "proba_mnb = mnb_model.predict_proba(X_test_cvec)"
   ]
  },
  {
   "cell_type": "code",
   "execution_count": 22,
   "metadata": {},
   "outputs": [],
   "source": [
    "#saving the confusion_matrices\n",
    "cm_knn = confusion_matrix(y_test, prediction_knn)\n",
    "cm_mnb = confusion_matrix(y_test, prediction_mnb)"
   ]
  },
  {
   "cell_type": "markdown",
   "metadata": {},
   "source": [
    "### Evaluation"
   ]
  },
  {
   "cell_type": "code",
   "execution_count": 13,
   "metadata": {},
   "outputs": [
    {
     "data": {
      "text/html": [
       "<div>\n",
       "<style scoped>\n",
       "    .dataframe tbody tr th:only-of-type {\n",
       "        vertical-align: middle;\n",
       "    }\n",
       "\n",
       "    .dataframe tbody tr th {\n",
       "        vertical-align: top;\n",
       "    }\n",
       "\n",
       "    .dataframe thead th {\n",
       "        text-align: right;\n",
       "    }\n",
       "</style>\n",
       "<table border=\"1\" class=\"dataframe\">\n",
       "  <thead>\n",
       "    <tr style=\"text-align: right;\">\n",
       "      <th></th>\n",
       "      <th>predicted depression</th>\n",
       "      <th>predicted bipolar</th>\n",
       "    </tr>\n",
       "  </thead>\n",
       "  <tbody>\n",
       "    <tr>\n",
       "      <th>actual depression</th>\n",
       "      <td>376</td>\n",
       "      <td>432</td>\n",
       "    </tr>\n",
       "    <tr>\n",
       "      <th>actual bipolar</th>\n",
       "      <td>135</td>\n",
       "      <td>554</td>\n",
       "    </tr>\n",
       "  </tbody>\n",
       "</table>\n",
       "</div>"
      ],
      "text/plain": [
       "                   predicted depression  predicted bipolar\n",
       "actual depression                   376                432\n",
       "actual bipolar                      135                554"
      ]
     },
     "execution_count": 13,
     "metadata": {},
     "output_type": "execute_result"
    }
   ],
   "source": [
    "cm_knn_df = pd.DataFrame(cm_knn, \n",
    "             columns=['predicted depression', 'predicted bipolar'],\n",
    "             index=['actual depression', 'actual bipolar'])\n",
    "print('Confusion matrix for KNN model:')\n",
    "cm_knn_df"
   ]
  },
  {
   "cell_type": "code",
   "execution_count": 14,
   "metadata": {},
   "outputs": [
    {
     "data": {
      "text/html": [
       "<div>\n",
       "<style scoped>\n",
       "    .dataframe tbody tr th:only-of-type {\n",
       "        vertical-align: middle;\n",
       "    }\n",
       "\n",
       "    .dataframe tbody tr th {\n",
       "        vertical-align: top;\n",
       "    }\n",
       "\n",
       "    .dataframe thead th {\n",
       "        text-align: right;\n",
       "    }\n",
       "</style>\n",
       "<table border=\"1\" class=\"dataframe\">\n",
       "  <thead>\n",
       "    <tr style=\"text-align: right;\">\n",
       "      <th></th>\n",
       "      <th>predicted depression</th>\n",
       "      <th>predicted bipolar</th>\n",
       "    </tr>\n",
       "  </thead>\n",
       "  <tbody>\n",
       "    <tr>\n",
       "      <th>actual depression</th>\n",
       "      <td>699</td>\n",
       "      <td>109</td>\n",
       "    </tr>\n",
       "    <tr>\n",
       "      <th>actual bipolar</th>\n",
       "      <td>196</td>\n",
       "      <td>493</td>\n",
       "    </tr>\n",
       "  </tbody>\n",
       "</table>\n",
       "</div>"
      ],
      "text/plain": [
       "                   predicted depression  predicted bipolar\n",
       "actual depression                   699                109\n",
       "actual bipolar                      196                493"
      ]
     },
     "execution_count": 14,
     "metadata": {},
     "output_type": "execute_result"
    }
   ],
   "source": [
    "cm_mnb_df = pd.DataFrame(cm_mnb, \n",
    "             columns=['predicted depression', 'predicted bipolar'],\n",
    "             index=['actual depression', 'actual bipolar'])\n",
    "print('Confusion matrix for Multinomial NB model:')\n",
    "cm_mnb_df"
   ]
  },
  {
   "cell_type": "code",
   "execution_count": 19,
   "metadata": {},
   "outputs": [
    {
     "name": "stdout",
     "output_type": "stream",
     "text": [
      "KNN is wrong 38.0% of the time\n",
      "\n",
      "MNB is wrong 20.0% of the time\n"
     ]
    }
   ],
   "source": [
    "print('KNN is wrong {}% of the time'.format(round((1 - metrics.accuracy_score(y_test, prediction_knn))*100),2))\n",
    "print()\n",
    "print('MNB is wrong {}% of the time'.format(round((1 - metrics.accuracy_score(y_test, prediction_mnb))*100),2))"
   ]
  },
  {
   "cell_type": "code",
   "execution_count": 23,
   "metadata": {},
   "outputs": [],
   "source": [
    "#unravel the confusion matrix to be able to calculated the sensitivity and specificity\n",
    "\n",
    "#KNN\n",
    "TP_knn = cm_knn[1, 1]\n",
    "TN_knn = cm_knn[0, 0]\n",
    "FP_knn = cm_knn[0, 1]\n",
    "FN_knn = cm_knn[1, 0]\n",
    "\n",
    "#MNB\n",
    "TP_mnb = cm_mnb[1, 1]\n",
    "TN_mnb = cm_mnb[0, 0]\n",
    "FP_mnb = cm_mnb[0, 1]\n",
    "FN_mnb = cm_mnb[1, 0]\n"
   ]
  },
  {
   "cell_type": "markdown",
   "metadata": {},
   "source": [
    "In this case we would want to optimize for both sensitivity and specificity. The KNN model is better at predicting bipolar but not so good at predicting depression. While the MNB model is more even at optimizing for both. "
   ]
  },
  {
   "cell_type": "code",
   "execution_count": 31,
   "metadata": {},
   "outputs": [
    {
     "name": "stdout",
     "output_type": "stream",
     "text": [
      "Sensitivity for KNN:0.8055152394775036\n",
      "Specificity for KNN:0.46782178217821785\n",
      "\n",
      "Sensitivity for MNB:0.7358490566037735\n",
      "Specificity for MNB:0.8564356435643564\n"
     ]
    }
   ],
   "source": [
    "print('Sensitivity for KNN:{}'.format(metrics.recall_score(y_test, prediction_knn)))\n",
    "print('Specificity for KNN:{}'.format(TN_knn / (TN_knn + FP_knn)))\n",
    "print()\n",
    "print('Sensitivity for MNB:{}'.format(metrics.recall_score(y_test, prediction_mnb)))\n",
    "print('Specificity for MNB:{}'.format(TN_mnb / (TN_mnb + FP_mnb)))"
   ]
  },
  {
   "cell_type": "markdown",
   "metadata": {},
   "source": [
    "The ROC curve is a good way to visualize the overlap between our two classes. We want it to be as close to a 90 degree angle as possible. Our two models are not perfect. But we can see that the Multinomial Naive Bayes model is reaching closer to a 90 degree angle. AUC score measures the area under this ROC curve. We want it to be as close to 1 as possible."
   ]
  },
  {
   "cell_type": "code",
   "execution_count": 64,
   "metadata": {},
   "outputs": [
    {
     "data": {
      "image/png": "[encoded data removed]",
      "text/plain": [
       "<Figure size 1080x432 with 2 Axes>"
      ]
     },
     "metadata": {
      "needs_background": "light"
     },
     "output_type": "display_data"
    }
   ],
   "source": [
    "fpr_knn, tpr_knn, thresholds_knn = metrics.roc_curve(y_test, proba_knn[:,1])\n",
    "fpr_mnb, tpr_mnb, thresholds_mnb = metrics.roc_curve(y_test, proba_mnb[:,1])\n",
    "\n",
    "fig, ax = plt.subplots(1,2,figsize= (15,6))\n",
    "\n",
    "ax[0].plot(fpr_knn, tpr_knn)\n",
    "ax[0].set_title('ROC curve for KNN model: AUC = {}'.format(round(roc_auc_score(y_test,\n",
    "              proba_knn[:,1]),4)), weight = 'bold', fontsize = 15)\n",
    "ax[0].set_xlabel('False Positive Rate (1 - Specificity)')\n",
    "ax[0].set_ylabel('True Positive Rate (Sensitivity)')\n",
    "ax[0].grid(True)\n",
    "ax[0].plot(np.linspace(0, 1, 200),\n",
    "         np.linspace(0, 1, 200),\n",
    "         label='baseline',\n",
    "         linestyle='--')\n",
    "\n",
    "ax[1].plot(fpr_mnb, tpr_mnb)\n",
    "ax[1].set_title('ROC curve for MNB model: AUC = {}'.format(round(roc_auc_score(y_test,\n",
    "              proba_mnb[:,1]),4)), weight = 'bold', fontsize = 15)\n",
    "ax[1].set_xlabel('False Positive Rate (1 - Specificity)')\n",
    "ax[1].set_ylabel('True Positive Rate (Sensitivity)')\n",
    "ax[1].grid(True)\n",
    "ax[1].plot(np.linspace(0, 1, 200),\n",
    "         np.linspace(0, 1, 200),\n",
    "         linestyle='--');"
   ]
  },
  {
   "cell_type": "markdown",
   "metadata": {},
   "source": [
    "## Conclusion"
   ]
  },
  {
   "cell_type": "markdown",
   "metadata": {},
   "source": [
    "During modeling I have tried Multinomial Naive Bayes, Gaussian Naive Bayes, Logistic Regression and K Nearest Neighbors. Logistic Regression was abandoned right away for it was terribly overfit. The two models picked by me for further analysis were K Nearest Neighbors and Multinomial Naive Bayes for they had the best accuracy scores. Through evaluation I concluded that my Multinomial Naive Bayes model has performed the best all around. It predicts with around 80% accuracy and has the highest AUC score. Using this model, I went ahead and wrote a code that will predict whether an input belongs in a depressed or bipolar subreddit. I also, took a step further and have a code that will predict as you type and adjust the predictions accordingly. "
   ]
  },
  {
   "cell_type": "code",
   "execution_count": null,
   "metadata": {},
   "outputs": [],
   "source": []
  }
 ],
 "metadata": {
  "kernelspec": {
   "display_name": "Python [conda env:root] *",
   "language": "python",
   "name": "conda-root-py"
  },
  "language_info": {
   "codemirror_mode": {
    "name": "ipython",
    "version": 3
   },
   "file_extension": ".py",
   "mimetype": "text/x-python",
   "name": "python",
   "nbconvert_exporter": "python",
   "pygments_lexer": "ipython3",
   "version": "3.7.4"
  }
 },
 "nbformat": 4,
 "nbformat_minor": 2
}
